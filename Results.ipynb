{
 "cells": [
  {
   "cell_type": "markdown",
   "metadata": {},
   "source": [
    "|          Type         |   Model  |             Version            | Cross Validation? |                   Article Result                  |             Our Result            |          Script Name         |\n",
    "|:---------------------:|:--------:|:------------------------------:|:-----------------:|:-------------------------------------------------:|:---------------------------------:|:----------------------------:|\n",
    "|    Lexical Overlap    |   Dice   |                -               |         No        |                        0.57                       |                0.57               |    notebooks/STR_Baseline    |\n",
    "|   Static Embeddings   | Word2Vec | mean, word2vec-google-news-300 |         No        | 0.60 (specific pre-trained weights version unknown) |               0.38               | notebooks/Word2Vec_embedding |\n",
    "|   Static Embeddings   | Word2Vec |  max, word2vec-google-news-300 |         No        | 0.54 (specific pre-trained weights version unknown) |                0.3                | notebooks/Word2Vec_embedding |\n",
    "|   Static Embeddings   | Fasttext |               XXX              |         No        |                        XXX                        |                XXX                |              XXX             |\n",
    "| Contextual Embeddings |   BERT   |     mean, bert-base-uncased    |         No        |     0.58  pre-trained weights version unknown     |               0.596               |   notebooks/BERT_embedding   |\n",
    "| Contextual Embeddings |   BART   |  mean, facebook/bart-large-cnn |         No        |                         -                         |                0.67               |   notebooks/BART_embedding   |\n",
    "|      Tunned Model     |   BERT   |        bert-base-uncased       |      5-folded     |      0.82 pre-trained weights version unknown     |                0.82               |     notebooks/BERT_model     |\n",
    "|      Tunned Model     |   BART   |        bart-base-uncased       |      5-folded     |                         -                         |                0.85               |     notebooks/BART_model     |\n",
    "|      Tunned Model     |   BART   |     facebook/bart-large-cnn    |      5-folded     |                         -                         | Model too big  to  train on Colab |     notebooks/BART_model     |\n",
    "|      Tunned Model     |   sBERT  |        all-MiniLM-L6-v2        |      5-folded     |                         -                         |                0.82               |     notebooks/sBERT_model    |\n",
    "|      Tunned Model     |   sBERT  |        all-mpnet-base-v2       |      5-folded     |                         -                         |                XXX                |     notebooks/sBERT_model    |"
   ]
  }
 ],
 "metadata": {
  "kernelspec": {
   "display_name": "AppliedDL",
   "language": "python",
   "name": "python3"
  },
  "language_info": {
   "codemirror_mode": {
    "name": "ipython",
    "version": 3
   },
   "file_extension": ".py",
   "mimetype": "text/x-python",
   "name": "python",
   "nbconvert_exporter": "python",
   "pygments_lexer": "ipython3",
   "version": "3.10.13"
  }
 },
 "nbformat": 4,
 "nbformat_minor": 2
}
