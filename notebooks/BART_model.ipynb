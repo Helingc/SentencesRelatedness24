{
  "cells": [
    {
      "cell_type": "code",
      "execution_count": 3,
      "metadata": {
        "id": "_TN4ULMPKLIe"
      },
      "outputs": [],
      "source": [
        "import os\n",
        "import re\n",
        "import sys\n",
        "from collections import OrderedDict\n",
        "\n",
        "import numpy as np\n",
        "import pandas as pd\n",
        "import matplotlib.pyplot as plt\n",
        "from tqdm.notebook import tqdm\n",
        "from scipy.stats import spearmanr, pearsonr, stats\n",
        "from scipy import spatial\n",
        "\n",
        "import torch\n",
        "from torch.utils.data import DataLoader, TensorDataset\n",
        "from sklearn.model_selection import KFold\n",
        "from sklearn.metrics import mean_squared_error\n",
        "from transformers import AutoTokenizer, BartForSequenceClassification\n",
        "from torch import nn, optim\n",
        "import torch.optim as optim\n",
        "\n",
        "tqdm.pandas()\n",
        "\n",
        "# For Google Colab\n",
        "if 'google.colab' in sys.modules:\n",
        "    from google.colab import drive\n",
        "    drive.mount('/content/drive')\n",
        "    PATH = os.path.join(\"drive\", \"MyDrive\", \"LMU\", \"AppliedDL\", \"data\", \"raw\")\n",
        "    \n",
        "    !pip install lightning\n",
        "else:\n",
        "    PATH = os.path.join(\"..\", \"data\", \"raw\")"
      ]
    },
    {
      "cell_type": "markdown",
      "metadata": {},
      "source": [
        "Get Data"
      ]
    },
    {
      "cell_type": "code",
      "execution_count": 4,
      "metadata": {
        "colab": {
          "base_uri": "https://localhost:8080/",
          "height": 380
        },
        "id": "XDfrzmHIKLIg",
        "outputId": "d3c2c419-4392-4366-c5ca-ee705f09787f"
      },
      "outputs": [],
      "source": [
        "def get_data(subset):\n",
        "\n",
        "    df_train = pd.read_csv(os.path.join(PATH, 'eng_train.csv'))\n",
        "    df_train[\"Split_Text\"] = df_train[\"Text\"].apply(lambda x: x.replace(\"\\n\", \" \"))\n",
        "    df_train['Split_Text'] = df_train['Split_Text'].apply(lambda x: x.split(\"\\r\"))\n",
        "    df_train['Split_Text'] = df_train['Split_Text'].apply(lambda x: [re.sub(r\"[^a-zA-Z0-9]+\", ' ', k) for k in x])\n",
        "\n",
        "    df_train[\"sen_1\"] = df_train[\"Split_Text\"].apply(lambda x: x[0])\n",
        "    df_train[\"sen_2\"] = df_train[\"Split_Text\"].apply(lambda x: x[1])\n",
        "    df_train.drop([\"Split_Text\"], axis=1, inplace=True)\n",
        "    display(df_train.head())\n",
        "\n",
        "    if subset is not None:\n",
        "        df_train = df_train.sample(n=subset, random_state=42)\n",
        "\n",
        "    return df_train"
      ]
    },
    {
      "cell_type": "markdown",
      "metadata": {
        "id": "lM5I66ezKLIg"
      },
      "source": [
        "Model Definition"
      ]
    },
    {
      "cell_type": "code",
      "execution_count": 5,
      "metadata": {
        "colab": {
          "base_uri": "https://localhost:8080/",
          "height": 121,
          "referenced_widgets": [
            "7139d718164c459dbf33a1da63090d3c",
            "5b9dffed675543baba83a9294fa0f99d",
            "77a257bf0d2e47aa84a79629898a54cd",
            "65cc7767e771439c985120a6ca92b844",
            "107094c2ac6e429ca5eb9a29cd6737ff",
            "c288337860a94ed9991dde932ad0da5a",
            "86cd1a915f0b48159d1dcd1da0f0e375",
            "84baf102dfb345dc86dba26ef955e344",
            "529b2ea450e64f91a77840ca7a80b63c",
            "d97b59b17cab4799ae4715751054df00",
            "5924b41eebb744ecb287a508df553206"
          ]
        },
        "id": "Nx4-LI_5OBcK",
        "outputId": "7130f493-f9eb-4e0b-b414-7e84edb956fd"
      },
      "outputs": [],
      "source": [
        "import lightning as L\n",
        "\n",
        "class BartClassifier(L.LightningModule):\n",
        "    def __init__(self):\n",
        "        super(BartClassifier, self).__init__()\n",
        "        self.model = BartForSequenceClassification.from_pretrained(\n",
        "            \"facebook/bart-large-cnn\", num_labels=1\n",
        "        )\n",
        "        self.loss_fn = torch.nn.MSELoss()\n",
        "\n",
        "        self.val_predictions = []\n",
        "        self.val_labels = []\n",
        "\n",
        "    def forward(self, input_ids, attention_mask, labels=None):\n",
        "        return self.model(input_ids, attention_mask=attention_mask, labels=labels)\n",
        "\n",
        "    def training_step(self, batch, batch_idx):\n",
        "        input_ids, attention_mask, labels = batch\n",
        "        outputs = self(input_ids, attention_mask, labels)\n",
        "        loss = outputs.loss\n",
        "        return loss\n",
        "\n",
        "    def test_step(self, batch, batch_idx):\n",
        "        input_ids, attention_mask, labels = batch\n",
        "        outputs = self(input_ids, attention_mask)\n",
        "        predictions = outputs.logits.squeeze()\n",
        "\n",
        "        # Append predictions and labels to the lists\n",
        "        self.val_predictions.append(predictions)\n",
        "        self.val_labels.append(labels.squeeze())\n",
        "\n",
        "        return predictions, labels\n",
        "\n",
        "    def on_test_epoch_end(self):\n",
        "        # Concatenate predictions and labels at the end of each epoch\n",
        "        predictions = torch.cat(self.val_predictions)\n",
        "        labels = torch.cat(self.val_labels)\n",
        "\n",
        "        mse = self.loss_fn(predictions, labels)\n",
        "        spearman_corr, _ = spearmanr(\n",
        "            predictions.cpu().numpy(), labels.cpu().numpy()\n",
        "        )\n",
        "\n",
        "        # Log the metrics\n",
        "        self.log(\"val_loss\", mse, prog_bar=True)\n",
        "        self.log(\"val_spearman_corr\", spearman_corr, prog_bar=True)\n",
        "\n",
        "        # Clear the lists for the next epoch\n",
        "        self.val_predictions = []\n",
        "        self.val_labels = []\n",
        "\n",
        "    def configure_optimizers(self):\n",
        "        self.optimizer = optim.AdamW(self.model.parameters(), lr=5e-5)\n",
        "        return self.optimizer\n",
        "\n",
        "\n",
        "def prepare_torch_dataset(df, tokenizer):\n",
        "    tokenized = tokenizer(\n",
        "        df[\"sen_1\"].tolist(),\n",
        "        df[\"sen_2\"].tolist(),\n",
        "        return_tensors=\"pt\",\n",
        "        padding=True,\n",
        "        truncation=True,\n",
        "        max_length=256,\n",
        "    )\n",
        "\n",
        "    labels = torch.tensor(df[\"Score\"].tolist(), dtype=torch.float32).unsqueeze(1)\n",
        "    return TensorDataset(tokenized[\"input_ids\"], tokenized[\"attention_mask\"], labels)\n",
        "\n",
        "\n",
        "def run_BART_cv(df, n_splits=5, epochs=3, batch_size=8, test_run=False):\n",
        "    if test_run:\n",
        "        n_splits = 2\n",
        "\n",
        "    # Load the BART tokenizer\n",
        "    tokenizer = AutoTokenizer.from_pretrained(\"facebook/bart-large-cnn\")\n",
        "\n",
        "    # 5-fold cross-validation\n",
        "    kf = KFold(n_splits=n_splits, shuffle=True, random_state=42)\n",
        "\n",
        "\n",
        "    all_spearman_corrs = []\n",
        "    for fold, (train_idx, val_idx) in enumerate(kf.split(df)):\n",
        "\n",
        "        print(f\"Fold {fold + 1}/{kf.get_n_splits()}\")\n",
        "\n",
        "        # Initialize the Lightning model\n",
        "        model = BartClassifier()\n",
        "        trainer = L.Trainer(\n",
        "            accelerator=\"auto\", max_epochs=epochs, num_sanity_val_steps=0, fast_dev_run=test_run\n",
        "        )\n",
        "\n",
        "\n",
        "        # Split data into train and validation sets\n",
        "        train_df, val_df = df.iloc[train_idx], df.iloc[val_idx]\n",
        "\n",
        "        train_data = prepare_torch_dataset(train_df, tokenizer)\n",
        "        val_data = prepare_torch_dataset(val_df, tokenizer)\n",
        "\n",
        "        train_dataloader = DataLoader(train_data, batch_size=batch_size, shuffle=True)\n",
        "        val_dataloader = DataLoader(val_data, batch_size=batch_size, shuffle=False)\n",
        "\n",
        "\n",
        "        # Train & Evaluate the model\n",
        "        trainer.fit(model, train_dataloader)\n",
        "        trainer.test(model, val_dataloader)\n",
        "\n",
        "\n",
        "        # Calculate and print the average Spearman correlation\n",
        "        average_spearman_corr = trainer.callback_metrics[\"val_spearman_corr\"].mean()\n",
        "        print(\n",
        "            f\"Average Spearman Correlation for Fold {fold + 1}: {average_spearman_corr}\"\n",
        "        )\n",
        "\n",
        "        all_spearman_corrs.append(average_spearman_corr)\n",
        "\n",
        "    # Calculate and print the overall average Spearman correlation\n",
        "    overall_average_spearman_corr = sum(all_spearman_corrs) / len(all_spearman_corrs)\n",
        "    print(\n",
        "        f\"Overall Average Spearman Correlation across all folds: {overall_average_spearman_corr}\"\n",
        "    )\n",
        "\n",
        "    return overall_average_spearman_corr"
      ]
    },
    {
      "cell_type": "markdown",
      "metadata": {},
      "source": [
        "### Model training and evaluation using CV\n",
        "\n",
        "Run with CUDA GPU acceleration\n",
        "- XXX with a fast CPU\n",
        "- XXX min on Colab"
      ]
    },
    {
      "cell_type": "code",
      "execution_count": 6,
      "metadata": {},
      "outputs": [
        {
          "data": {
            "text/html": [
              "<div>\n",
              "<style scoped>\n",
              "    .dataframe tbody tr th:only-of-type {\n",
              "        vertical-align: middle;\n",
              "    }\n",
              "\n",
              "    .dataframe tbody tr th {\n",
              "        vertical-align: top;\n",
              "    }\n",
              "\n",
              "    .dataframe thead th {\n",
              "        text-align: right;\n",
              "    }\n",
              "</style>\n",
              "<table border=\"1\" class=\"dataframe\">\n",
              "  <thead>\n",
              "    <tr style=\"text-align: right;\">\n",
              "      <th></th>\n",
              "      <th>PairID</th>\n",
              "      <th>Text</th>\n",
              "      <th>Score</th>\n",
              "      <th>sen_1</th>\n",
              "      <th>sen_2</th>\n",
              "    </tr>\n",
              "  </thead>\n",
              "  <tbody>\n",
              "    <tr>\n",
              "      <th>0</th>\n",
              "      <td>ENG-train-0000</td>\n",
              "      <td>It that happens, just pull the plug.\\r\\nif tha...</td>\n",
              "      <td>1.0</td>\n",
              "      <td>It that happens just pull the plug</td>\n",
              "      <td>if that ever happens just pull the plug</td>\n",
              "    </tr>\n",
              "    <tr>\n",
              "      <th>1</th>\n",
              "      <td>ENG-train-0001</td>\n",
              "      <td>A black dog running through water.\\r\\nA black ...</td>\n",
              "      <td>1.0</td>\n",
              "      <td>A black dog running through water</td>\n",
              "      <td>A black dog is running through some water</td>\n",
              "    </tr>\n",
              "    <tr>\n",
              "      <th>2</th>\n",
              "      <td>ENG-train-0002</td>\n",
              "      <td>I've been searchingthe entire abbey for you.\\r...</td>\n",
              "      <td>1.0</td>\n",
              "      <td>I ve been searchingthe entire abbey for you</td>\n",
              "      <td>I m looking for you all over the abbey</td>\n",
              "    </tr>\n",
              "    <tr>\n",
              "      <th>3</th>\n",
              "      <td>ENG-train-0003</td>\n",
              "      <td>If he is good looking and has a good personali...</td>\n",
              "      <td>1.0</td>\n",
              "      <td>If he is good looking and has a good personali...</td>\n",
              "      <td>If he s good looking and a good personality h...</td>\n",
              "    </tr>\n",
              "    <tr>\n",
              "      <th>4</th>\n",
              "      <td>ENG-train-0004</td>\n",
              "      <td>She does not hate you, she is just annoyed wit...</td>\n",
              "      <td>1.0</td>\n",
              "      <td>She does not hate you she is just annoyed with...</td>\n",
              "      <td>She doesn t hate you she is just annoyed</td>\n",
              "    </tr>\n",
              "  </tbody>\n",
              "</table>\n",
              "</div>"
            ],
            "text/plain": [
              "           PairID                                               Text  Score  \\\n",
              "0  ENG-train-0000  It that happens, just pull the plug.\\r\\nif tha...    1.0   \n",
              "1  ENG-train-0001  A black dog running through water.\\r\\nA black ...    1.0   \n",
              "2  ENG-train-0002  I've been searchingthe entire abbey for you.\\r...    1.0   \n",
              "3  ENG-train-0003  If he is good looking and has a good personali...    1.0   \n",
              "4  ENG-train-0004  She does not hate you, she is just annoyed wit...    1.0   \n",
              "\n",
              "                                               sen_1  \\\n",
              "0                It that happens just pull the plug    \n",
              "1                 A black dog running through water    \n",
              "2       I ve been searchingthe entire abbey for you    \n",
              "3  If he is good looking and has a good personali...   \n",
              "4  She does not hate you she is just annoyed with...   \n",
              "\n",
              "                                               sen_2  \n",
              "0           if that ever happens just pull the plug   \n",
              "1         A black dog is running through some water   \n",
              "2            I m looking for you all over the abbey   \n",
              "3   If he s good looking and a good personality h...  \n",
              "4          She doesn t hate you she is just annoyed   "
            ]
          },
          "metadata": {},
          "output_type": "display_data"
        },
        {
          "name": "stdout",
          "output_type": "stream",
          "text": [
            "Fold 1/2\n"
          ]
        },
        {
          "name": "stderr",
          "output_type": "stream",
          "text": [
            "Some weights of BartForSequenceClassification were not initialized from the model checkpoint at facebook/bart-large-cnn and are newly initialized: ['classification_head.dense.bias', 'classification_head.out_proj.weight', 'classification_head.dense.weight', 'classification_head.out_proj.bias']\n",
            "You should probably TRAIN this model on a down-stream task to be able to use it for predictions and inference.\n",
            "GPU available: False, used: False\n",
            "TPU available: False, using: 0 TPU cores\n",
            "IPU available: False, using: 0 IPUs\n",
            "HPU available: False, using: 0 HPUs\n",
            "c:\\Users\\dchro\\.conda\\envs\\AppliedDL\\lib\\site-packages\\lightning\\pytorch\\trainer\\connectors\\logger_connector\\logger_connector.py:67: Starting from v1.9.0, `tensorboardX` has been removed as a dependency of the `lightning.pytorch` package, due to potential conflicts with other packages in the ML ecosystem. For this reason, `logger=True` will use `CSVLogger` as the default logger, unless the `tensorboard` or `tensorboardX` packages are found. Please `pip install lightning[extra]` or one of them to enable TensorBoard support by default\n",
            "Running in `fast_dev_run` mode: will run the requested loop using 1 batch(es). Logging and checkpointing is suppressed.\n",
            "\n",
            "  | Name    | Type                          | Params\n",
            "----------------------------------------------------------\n",
            "0 | model   | BartForSequenceClassification | 407 M \n",
            "1 | loss_fn | MSELoss                       | 0     \n",
            "----------------------------------------------------------\n",
            "407 M     Trainable params\n",
            "0         Non-trainable params\n",
            "407 M     Total params\n",
            "1,629.364 Total estimated model params size (MB)\n",
            "c:\\Users\\dchro\\.conda\\envs\\AppliedDL\\lib\\site-packages\\lightning\\pytorch\\trainer\\connectors\\data_connector.py:441: The 'train_dataloader' does not have many workers which may be a bottleneck. Consider increasing the value of the `num_workers` argument` to `num_workers=11` in the `DataLoader` to improve performance.\n"
          ]
        },
        {
          "data": {
            "application/vnd.jupyter.widget-view+json": {
              "model_id": "2a1c4eb3a65540ddb1a03218cd91f14b",
              "version_major": 2,
              "version_minor": 0
            },
            "text/plain": [
              "Training: |          | 0/? [00:00<?, ?it/s]"
            ]
          },
          "metadata": {},
          "output_type": "display_data"
        },
        {
          "name": "stderr",
          "output_type": "stream",
          "text": [
            "`Trainer.fit` stopped: `max_steps=1` reached.\n",
            "c:\\Users\\dchro\\.conda\\envs\\AppliedDL\\lib\\site-packages\\lightning\\pytorch\\trainer\\connectors\\data_connector.py:441: The 'test_dataloader' does not have many workers which may be a bottleneck. Consider increasing the value of the `num_workers` argument` to `num_workers=11` in the `DataLoader` to improve performance.\n"
          ]
        },
        {
          "data": {
            "application/vnd.jupyter.widget-view+json": {
              "model_id": "6ce154d7e2fa4700bc426955792df0ea",
              "version_major": 2,
              "version_minor": 0
            },
            "text/plain": [
              "Testing: |          | 0/? [00:00<?, ?it/s]"
            ]
          },
          "metadata": {},
          "output_type": "display_data"
        },
        {
          "data": {
            "text/html": [
              "<pre style=\"white-space:pre;overflow-x:auto;line-height:normal;font-family:Menlo,'DejaVu Sans Mono',consolas,'Courier New',monospace\">┏━━━━━━━━━━━━━━━━━━━━━━━━━━━┳━━━━━━━━━━━━━━━━━━━━━━━━━━━┓\n",
              "┃<span style=\"font-weight: bold\">        Test metric        </span>┃<span style=\"font-weight: bold\">       DataLoader 0        </span>┃\n",
              "┡━━━━━━━━━━━━━━━━━━━━━━━━━━━╇━━━━━━━━━━━━━━━━━━━━━━━━━━━┩\n",
              "│<span style=\"color: #008080; text-decoration-color: #008080\">         val_loss          </span>│<span style=\"color: #800080; text-decoration-color: #800080\">     1.953223705291748     </span>│\n",
              "│<span style=\"color: #008080; text-decoration-color: #008080\">     val_spearman_corr     </span>│<span style=\"color: #800080; text-decoration-color: #800080\">    0.15917503894408722    </span>│\n",
              "└───────────────────────────┴───────────────────────────┘\n",
              "</pre>\n"
            ],
            "text/plain": [
              "┏━━━━━━━━━━━━━━━━━━━━━━━━━━━┳━━━━━━━━━━━━━━━━━━━━━━━━━━━┓\n",
              "┃\u001b[1m \u001b[0m\u001b[1m       Test metric       \u001b[0m\u001b[1m \u001b[0m┃\u001b[1m \u001b[0m\u001b[1m      DataLoader 0       \u001b[0m\u001b[1m \u001b[0m┃\n",
              "┡━━━━━━━━━━━━━━━━━━━━━━━━━━━╇━━━━━━━━━━━━━━━━━━━━━━━━━━━┩\n",
              "│\u001b[36m \u001b[0m\u001b[36m        val_loss         \u001b[0m\u001b[36m \u001b[0m│\u001b[35m \u001b[0m\u001b[35m    1.953223705291748    \u001b[0m\u001b[35m \u001b[0m│\n",
              "│\u001b[36m \u001b[0m\u001b[36m    val_spearman_corr    \u001b[0m\u001b[36m \u001b[0m│\u001b[35m \u001b[0m\u001b[35m   0.15917503894408722   \u001b[0m\u001b[35m \u001b[0m│\n",
              "└───────────────────────────┴───────────────────────────┘\n"
            ]
          },
          "metadata": {},
          "output_type": "display_data"
        },
        {
          "name": "stdout",
          "output_type": "stream",
          "text": [
            "Average Spearman Correlation for Fold 1: 0.15917503894408722\n",
            "Fold 2/2\n"
          ]
        },
        {
          "name": "stderr",
          "output_type": "stream",
          "text": [
            "Some weights of BartForSequenceClassification were not initialized from the model checkpoint at facebook/bart-large-cnn and are newly initialized: ['classification_head.dense.bias', 'classification_head.out_proj.weight', 'classification_head.dense.weight', 'classification_head.out_proj.bias']\n",
            "You should probably TRAIN this model on a down-stream task to be able to use it for predictions and inference.\n",
            "GPU available: False, used: False\n",
            "TPU available: False, using: 0 TPU cores\n",
            "IPU available: False, using: 0 IPUs\n",
            "HPU available: False, using: 0 HPUs\n",
            "Running in `fast_dev_run` mode: will run the requested loop using 1 batch(es). Logging and checkpointing is suppressed.\n",
            "\n",
            "  | Name    | Type                          | Params\n",
            "----------------------------------------------------------\n",
            "0 | model   | BartForSequenceClassification | 407 M \n",
            "1 | loss_fn | MSELoss                       | 0     \n",
            "----------------------------------------------------------\n",
            "407 M     Trainable params\n",
            "0         Non-trainable params\n",
            "407 M     Total params\n",
            "1,629.364 Total estimated model params size (MB)\n"
          ]
        },
        {
          "data": {
            "application/vnd.jupyter.widget-view+json": {
              "model_id": "4a099edce42b478e8c6959f9547b50b4",
              "version_major": 2,
              "version_minor": 0
            },
            "text/plain": [
              "Training: |          | 0/? [00:00<?, ?it/s]"
            ]
          },
          "metadata": {},
          "output_type": "display_data"
        },
        {
          "name": "stderr",
          "output_type": "stream",
          "text": [
            "`Trainer.fit` stopped: `max_steps=1` reached.\n"
          ]
        },
        {
          "data": {
            "application/vnd.jupyter.widget-view+json": {
              "model_id": "b6656192f3874f1087c96c231becf0ae",
              "version_major": 2,
              "version_minor": 0
            },
            "text/plain": [
              "Testing: |          | 0/? [00:00<?, ?it/s]"
            ]
          },
          "metadata": {},
          "output_type": "display_data"
        },
        {
          "data": {
            "text/html": [
              "<pre style=\"white-space:pre;overflow-x:auto;line-height:normal;font-family:Menlo,'DejaVu Sans Mono',consolas,'Courier New',monospace\">┏━━━━━━━━━━━━━━━━━━━━━━━━━━━┳━━━━━━━━━━━━━━━━━━━━━━━━━━━┓\n",
              "┃<span style=\"font-weight: bold\">        Test metric        </span>┃<span style=\"font-weight: bold\">       DataLoader 0        </span>┃\n",
              "┡━━━━━━━━━━━━━━━━━━━━━━━━━━━╇━━━━━━━━━━━━━━━━━━━━━━━━━━━┩\n",
              "│<span style=\"color: #008080; text-decoration-color: #008080\">         val_loss          </span>│<span style=\"color: #800080; text-decoration-color: #800080\">    1.3565841913223267     </span>│\n",
              "│<span style=\"color: #008080; text-decoration-color: #008080\">     val_spearman_corr     </span>│<span style=\"color: #800080; text-decoration-color: #800080\">    -0.2652917315734787    </span>│\n",
              "└───────────────────────────┴───────────────────────────┘\n",
              "</pre>\n"
            ],
            "text/plain": [
              "┏━━━━━━━━━━━━━━━━━━━━━━━━━━━┳━━━━━━━━━━━━━━━━━━━━━━━━━━━┓\n",
              "┃\u001b[1m \u001b[0m\u001b[1m       Test metric       \u001b[0m\u001b[1m \u001b[0m┃\u001b[1m \u001b[0m\u001b[1m      DataLoader 0       \u001b[0m\u001b[1m \u001b[0m┃\n",
              "┡━━━━━━━━━━━━━━━━━━━━━━━━━━━╇━━━━━━━━━━━━━━━━━━━━━━━━━━━┩\n",
              "│\u001b[36m \u001b[0m\u001b[36m        val_loss         \u001b[0m\u001b[36m \u001b[0m│\u001b[35m \u001b[0m\u001b[35m   1.3565841913223267    \u001b[0m\u001b[35m \u001b[0m│\n",
              "│\u001b[36m \u001b[0m\u001b[36m    val_spearman_corr    \u001b[0m\u001b[36m \u001b[0m│\u001b[35m \u001b[0m\u001b[35m   -0.2652917315734787   \u001b[0m\u001b[35m \u001b[0m│\n",
              "└───────────────────────────┴───────────────────────────┘\n"
            ]
          },
          "metadata": {},
          "output_type": "display_data"
        },
        {
          "name": "stdout",
          "output_type": "stream",
          "text": [
            "Average Spearman Correlation for Fold 2: -0.2652917315734787\n",
            "Overall Average Spearman Correlation across all folds: -0.053058346314695734\n"
          ]
        }
      ],
      "source": [
        "df = get_data(subset=1000) # Set to None to use the full dataset, set to 100 to prototype\n",
        "\n",
        "score = run_BART_cv(\n",
        "    df,\n",
        "    n_splits=5,\n",
        "    epochs=3,\n",
        "    batch_size=16,\n",
        "    test_run = True, # Set to True to run a test on one batch\n",
        ")"
      ]
    },
    {
      "cell_type": "markdown",
      "metadata": {},
      "source": [
        "Results ~ 0.85 Spearman correlation"
      ]
    }
  ],
  "metadata": {
    "accelerator": "GPU",
    "colab": {
      "gpuType": "T4",
      "provenance": []
    },
    "kernelspec": {
      "display_name": "Python 3",
      "name": "python3"
    },
    "language_info": {
      "codemirror_mode": {
        "name": "ipython",
        "version": 3
      },
      "file_extension": ".py",
      "mimetype": "text/x-python",
      "name": "python",
      "nbconvert_exporter": "python",
      "pygments_lexer": "ipython3",
      "version": "3.10.13"
    },
    "widgets": {
      "application/vnd.jupyter.widget-state+json": {
        "107094c2ac6e429ca5eb9a29cd6737ff": {
          "model_module": "@jupyter-widgets/base",
          "model_module_version": "1.2.0",
          "model_name": "LayoutModel",
          "state": {
            "_model_module": "@jupyter-widgets/base",
            "_model_module_version": "1.2.0",
            "_model_name": "LayoutModel",
            "_view_count": null,
            "_view_module": "@jupyter-widgets/base",
            "_view_module_version": "1.2.0",
            "_view_name": "LayoutView",
            "align_content": null,
            "align_items": null,
            "align_self": null,
            "border": null,
            "bottom": null,
            "display": null,
            "flex": null,
            "flex_flow": null,
            "grid_area": null,
            "grid_auto_columns": null,
            "grid_auto_flow": null,
            "grid_auto_rows": null,
            "grid_column": null,
            "grid_gap": null,
            "grid_row": null,
            "grid_template_areas": null,
            "grid_template_columns": null,
            "grid_template_rows": null,
            "height": null,
            "justify_content": null,
            "justify_items": null,
            "left": null,
            "margin": null,
            "max_height": null,
            "max_width": null,
            "min_height": null,
            "min_width": null,
            "object_fit": null,
            "object_position": null,
            "order": null,
            "overflow": null,
            "overflow_x": null,
            "overflow_y": null,
            "padding": null,
            "right": null,
            "top": null,
            "visibility": null,
            "width": null
          }
        },
        "529b2ea450e64f91a77840ca7a80b63c": {
          "model_module": "@jupyter-widgets/controls",
          "model_module_version": "1.5.0",
          "model_name": "ProgressStyleModel",
          "state": {
            "_model_module": "@jupyter-widgets/controls",
            "_model_module_version": "1.5.0",
            "_model_name": "ProgressStyleModel",
            "_view_count": null,
            "_view_module": "@jupyter-widgets/base",
            "_view_module_version": "1.2.0",
            "_view_name": "StyleView",
            "bar_color": null,
            "description_width": ""
          }
        },
        "5924b41eebb744ecb287a508df553206": {
          "model_module": "@jupyter-widgets/controls",
          "model_module_version": "1.5.0",
          "model_name": "DescriptionStyleModel",
          "state": {
            "_model_module": "@jupyter-widgets/controls",
            "_model_module_version": "1.5.0",
            "_model_name": "DescriptionStyleModel",
            "_view_count": null,
            "_view_module": "@jupyter-widgets/base",
            "_view_module_version": "1.2.0",
            "_view_name": "StyleView",
            "description_width": ""
          }
        },
        "5b9dffed675543baba83a9294fa0f99d": {
          "model_module": "@jupyter-widgets/controls",
          "model_module_version": "1.5.0",
          "model_name": "HTMLModel",
          "state": {
            "_dom_classes": [],
            "_model_module": "@jupyter-widgets/controls",
            "_model_module_version": "1.5.0",
            "_model_name": "HTMLModel",
            "_view_count": null,
            "_view_module": "@jupyter-widgets/controls",
            "_view_module_version": "1.5.0",
            "_view_name": "HTMLView",
            "description": "",
            "description_tooltip": null,
            "layout": "IPY_MODEL_c288337860a94ed9991dde932ad0da5a",
            "placeholder": "​",
            "style": "IPY_MODEL_86cd1a915f0b48159d1dcd1da0f0e375",
            "value": "  0%"
          }
        },
        "65cc7767e771439c985120a6ca92b844": {
          "model_module": "@jupyter-widgets/controls",
          "model_module_version": "1.5.0",
          "model_name": "HTMLModel",
          "state": {
            "_dom_classes": [],
            "_model_module": "@jupyter-widgets/controls",
            "_model_module_version": "1.5.0",
            "_model_name": "HTMLModel",
            "_view_count": null,
            "_view_module": "@jupyter-widgets/controls",
            "_view_module_version": "1.5.0",
            "_view_name": "HTMLView",
            "description": "",
            "description_tooltip": null,
            "layout": "IPY_MODEL_d97b59b17cab4799ae4715751054df00",
            "placeholder": "​",
            "style": "IPY_MODEL_5924b41eebb744ecb287a508df553206",
            "value": " 0/3 [00:00&lt;?, ?it/s]"
          }
        },
        "7139d718164c459dbf33a1da63090d3c": {
          "model_module": "@jupyter-widgets/controls",
          "model_module_version": "1.5.0",
          "model_name": "HBoxModel",
          "state": {
            "_dom_classes": [],
            "_model_module": "@jupyter-widgets/controls",
            "_model_module_version": "1.5.0",
            "_model_name": "HBoxModel",
            "_view_count": null,
            "_view_module": "@jupyter-widgets/controls",
            "_view_module_version": "1.5.0",
            "_view_name": "HBoxView",
            "box_style": "",
            "children": [
              "IPY_MODEL_5b9dffed675543baba83a9294fa0f99d",
              "IPY_MODEL_77a257bf0d2e47aa84a79629898a54cd",
              "IPY_MODEL_65cc7767e771439c985120a6ca92b844"
            ],
            "layout": "IPY_MODEL_107094c2ac6e429ca5eb9a29cd6737ff"
          }
        },
        "77a257bf0d2e47aa84a79629898a54cd": {
          "model_module": "@jupyter-widgets/controls",
          "model_module_version": "1.5.0",
          "model_name": "FloatProgressModel",
          "state": {
            "_dom_classes": [],
            "_model_module": "@jupyter-widgets/controls",
            "_model_module_version": "1.5.0",
            "_model_name": "FloatProgressModel",
            "_view_count": null,
            "_view_module": "@jupyter-widgets/controls",
            "_view_module_version": "1.5.0",
            "_view_name": "ProgressView",
            "bar_style": "",
            "description": "",
            "description_tooltip": null,
            "layout": "IPY_MODEL_84baf102dfb345dc86dba26ef955e344",
            "max": 3,
            "min": 0,
            "orientation": "horizontal",
            "style": "IPY_MODEL_529b2ea450e64f91a77840ca7a80b63c",
            "value": 0
          }
        },
        "84baf102dfb345dc86dba26ef955e344": {
          "model_module": "@jupyter-widgets/base",
          "model_module_version": "1.2.0",
          "model_name": "LayoutModel",
          "state": {
            "_model_module": "@jupyter-widgets/base",
            "_model_module_version": "1.2.0",
            "_model_name": "LayoutModel",
            "_view_count": null,
            "_view_module": "@jupyter-widgets/base",
            "_view_module_version": "1.2.0",
            "_view_name": "LayoutView",
            "align_content": null,
            "align_items": null,
            "align_self": null,
            "border": null,
            "bottom": null,
            "display": null,
            "flex": null,
            "flex_flow": null,
            "grid_area": null,
            "grid_auto_columns": null,
            "grid_auto_flow": null,
            "grid_auto_rows": null,
            "grid_column": null,
            "grid_gap": null,
            "grid_row": null,
            "grid_template_areas": null,
            "grid_template_columns": null,
            "grid_template_rows": null,
            "height": null,
            "justify_content": null,
            "justify_items": null,
            "left": null,
            "margin": null,
            "max_height": null,
            "max_width": null,
            "min_height": null,
            "min_width": null,
            "object_fit": null,
            "object_position": null,
            "order": null,
            "overflow": null,
            "overflow_x": null,
            "overflow_y": null,
            "padding": null,
            "right": null,
            "top": null,
            "visibility": null,
            "width": null
          }
        },
        "86cd1a915f0b48159d1dcd1da0f0e375": {
          "model_module": "@jupyter-widgets/controls",
          "model_module_version": "1.5.0",
          "model_name": "DescriptionStyleModel",
          "state": {
            "_model_module": "@jupyter-widgets/controls",
            "_model_module_version": "1.5.0",
            "_model_name": "DescriptionStyleModel",
            "_view_count": null,
            "_view_module": "@jupyter-widgets/base",
            "_view_module_version": "1.2.0",
            "_view_name": "StyleView",
            "description_width": ""
          }
        },
        "c288337860a94ed9991dde932ad0da5a": {
          "model_module": "@jupyter-widgets/base",
          "model_module_version": "1.2.0",
          "model_name": "LayoutModel",
          "state": {
            "_model_module": "@jupyter-widgets/base",
            "_model_module_version": "1.2.0",
            "_model_name": "LayoutModel",
            "_view_count": null,
            "_view_module": "@jupyter-widgets/base",
            "_view_module_version": "1.2.0",
            "_view_name": "LayoutView",
            "align_content": null,
            "align_items": null,
            "align_self": null,
            "border": null,
            "bottom": null,
            "display": null,
            "flex": null,
            "flex_flow": null,
            "grid_area": null,
            "grid_auto_columns": null,
            "grid_auto_flow": null,
            "grid_auto_rows": null,
            "grid_column": null,
            "grid_gap": null,
            "grid_row": null,
            "grid_template_areas": null,
            "grid_template_columns": null,
            "grid_template_rows": null,
            "height": null,
            "justify_content": null,
            "justify_items": null,
            "left": null,
            "margin": null,
            "max_height": null,
            "max_width": null,
            "min_height": null,
            "min_width": null,
            "object_fit": null,
            "object_position": null,
            "order": null,
            "overflow": null,
            "overflow_x": null,
            "overflow_y": null,
            "padding": null,
            "right": null,
            "top": null,
            "visibility": null,
            "width": null
          }
        },
        "d97b59b17cab4799ae4715751054df00": {
          "model_module": "@jupyter-widgets/base",
          "model_module_version": "1.2.0",
          "model_name": "LayoutModel",
          "state": {
            "_model_module": "@jupyter-widgets/base",
            "_model_module_version": "1.2.0",
            "_model_name": "LayoutModel",
            "_view_count": null,
            "_view_module": "@jupyter-widgets/base",
            "_view_module_version": "1.2.0",
            "_view_name": "LayoutView",
            "align_content": null,
            "align_items": null,
            "align_self": null,
            "border": null,
            "bottom": null,
            "display": null,
            "flex": null,
            "flex_flow": null,
            "grid_area": null,
            "grid_auto_columns": null,
            "grid_auto_flow": null,
            "grid_auto_rows": null,
            "grid_column": null,
            "grid_gap": null,
            "grid_row": null,
            "grid_template_areas": null,
            "grid_template_columns": null,
            "grid_template_rows": null,
            "height": null,
            "justify_content": null,
            "justify_items": null,
            "left": null,
            "margin": null,
            "max_height": null,
            "max_width": null,
            "min_height": null,
            "min_width": null,
            "object_fit": null,
            "object_position": null,
            "order": null,
            "overflow": null,
            "overflow_x": null,
            "overflow_y": null,
            "padding": null,
            "right": null,
            "top": null,
            "visibility": null,
            "width": null
          }
        }
      }
    }
  },
  "nbformat": 4,
  "nbformat_minor": 0
}
