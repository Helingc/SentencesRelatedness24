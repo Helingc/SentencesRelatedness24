{
  "cells": [
    {
      "cell_type": "markdown",
      "metadata": {
        "id": "ewwVGDM3IyXY"
      },
      "source": [
        "### Package Imports"
      ]
    },
    {
      "cell_type": "code",
      "execution_count": 1,
      "metadata": {
        "id": "T6myajMlIyXZ"
      },
      "outputs": [],
      "source": [
        "import pandas as pd\n",
        "import numpy as np\n",
        "from scipy.stats import spearmanr\n",
        "import os\n",
        "from gensim.models import FastText"
      ]
    },
    {
      "cell_type": "code",
      "execution_count": 2,
      "metadata": {
        "colab": {
          "base_uri": "https://localhost:8080/",
          "height": 206
        },
        "id": "1PhipxbhIyXa",
        "outputId": "1da7308c-a799-4fe0-897e-3e4a23ea15c2"
      },
      "outputs": [
        {
          "data": {
            "text/html": [
              "<div>\n",
              "<style scoped>\n",
              "    .dataframe tbody tr th:only-of-type {\n",
              "        vertical-align: middle;\n",
              "    }\n",
              "\n",
              "    .dataframe tbody tr th {\n",
              "        vertical-align: top;\n",
              "    }\n",
              "\n",
              "    .dataframe thead th {\n",
              "        text-align: right;\n",
              "    }\n",
              "</style>\n",
              "<table border=\"1\" class=\"dataframe\">\n",
              "  <thead>\n",
              "    <tr style=\"text-align: right;\">\n",
              "      <th></th>\n",
              "      <th>PairID</th>\n",
              "      <th>Text</th>\n",
              "      <th>Score</th>\n",
              "    </tr>\n",
              "  </thead>\n",
              "  <tbody>\n",
              "    <tr>\n",
              "      <th>0</th>\n",
              "      <td>ENG-train-0000</td>\n",
              "      <td>It that happens, just pull the plug.\\nif that ...</td>\n",
              "      <td>1.0</td>\n",
              "    </tr>\n",
              "    <tr>\n",
              "      <th>1</th>\n",
              "      <td>ENG-train-0001</td>\n",
              "      <td>A black dog running through water.\\nA black do...</td>\n",
              "      <td>1.0</td>\n",
              "    </tr>\n",
              "    <tr>\n",
              "      <th>2</th>\n",
              "      <td>ENG-train-0002</td>\n",
              "      <td>I've been searchingthe entire abbey for you.\\n...</td>\n",
              "      <td>1.0</td>\n",
              "    </tr>\n",
              "    <tr>\n",
              "      <th>3</th>\n",
              "      <td>ENG-train-0003</td>\n",
              "      <td>If he is good looking and has a good personali...</td>\n",
              "      <td>1.0</td>\n",
              "    </tr>\n",
              "    <tr>\n",
              "      <th>4</th>\n",
              "      <td>ENG-train-0004</td>\n",
              "      <td>She does not hate you, she is just annoyed wit...</td>\n",
              "      <td>1.0</td>\n",
              "    </tr>\n",
              "  </tbody>\n",
              "</table>\n",
              "</div>"
            ],
            "text/plain": [
              "           PairID                                               Text  Score\n",
              "0  ENG-train-0000  It that happens, just pull the plug.\\nif that ...    1.0\n",
              "1  ENG-train-0001  A black dog running through water.\\nA black do...    1.0\n",
              "2  ENG-train-0002  I've been searchingthe entire abbey for you.\\n...    1.0\n",
              "3  ENG-train-0003  If he is good looking and has a good personali...    1.0\n",
              "4  ENG-train-0004  She does not hate you, she is just annoyed wit...    1.0"
            ]
          },
          "execution_count": 2,
          "metadata": {},
          "output_type": "execute_result"
        }
      ],
      "source": [
        "# Load the File\n",
        "df_str_rel = pd.read_csv(os.path.join('..','data','raw','eng_train.csv'))\n",
        "df_str_rel.head()"
      ]
    },
    {
      "cell_type": "code",
      "execution_count": 3,
      "metadata": {
        "colab": {
          "base_uri": "https://localhost:8080/"
        },
        "id": "qXA06vbeIyXb",
        "outputId": "14e7402d-bc57-44f0-8684-239d04330112"
      },
      "outputs": [
        {
          "data": {
            "text/plain": [
              "array(['It that happens, just pull the plug.\\nif that ever happens, just pull the plug.',\n",
              "       'A black dog running through water.\\nA black dog is running through some water.',\n",
              "       \"I've been searchingthe entire abbey for you.\\nI'm looking for you all over the abbey.\",\n",
              "       ...,\n",
              "       \"I actually read a chapter or two beyond that point, but my heart wasn't in it any more.\\nLets say she's a blend of two types of beings.\",\n",
              "       'A boy gives being in the snow two thumbs up.\\nA satisfied cat is perched beside a crystal lamp.',\n",
              "       'Perhaps it is strange to think about sex constantly these days.\\nFew people know how to shoot pool these days.'],\n",
              "      dtype=object)"
            ]
          },
          "execution_count": 3,
          "metadata": {},
          "output_type": "execute_result"
        }
      ],
      "source": [
        "df_str_rel['Text'].values"
      ]
    },
    {
      "cell_type": "code",
      "execution_count": 5,
      "metadata": {
        "colab": {
          "base_uri": "https://localhost:8080/",
          "height": 206
        },
        "id": "2omI6W3pIyXb",
        "outputId": "0db14703-4eee-4a33-cabf-d885c3fc86b0"
      },
      "outputs": [
        {
          "data": {
            "text/plain": [
              "['It that happens, just pull the plug.',\n",
              " 'if that ever happens, just pull the plug.']"
            ]
          },
          "execution_count": 5,
          "metadata": {},
          "output_type": "execute_result"
        }
      ],
      "source": [
        "# Creating a column \"Split_Text\" which is a list of two sentences.\n",
        "df_str_rel['Split_Text'] = df_str_rel['Text'].apply(lambda x: x.split(\"\\n\"))\n",
        "df_str_rel['Split_Text'].loc[0]"
      ]
    },
    {
      "cell_type": "markdown",
      "metadata": {
        "id": "kSgeyGpiIyXc"
      },
      "source": [
        "## load static FastText Embeddings"
      ]
    },
    {
      "cell_type": "code",
      "execution_count": 6,
      "metadata": {},
      "outputs": [
        {
          "name": "stderr",
          "output_type": "stream",
          "text": [
            "/var/folders/4t/_4f_khl520s03z4ltmxqlnsh0000gn/T/ipykernel_38591/593018851.py:1: DeprecationWarning: Call to deprecated `load_fasttext_format` (use load_facebook_vectors (to use pretrained embeddings) or load_facebook_model (to continue training with the loaded full model, more RAM) instead).\n",
            "  fasttext_model = FastText.load_fasttext_format('/Users/lemarx/Documents/01_projects/SentencesRelatedness24/data/embeddings/cc.en.300.bin')\n"
          ]
        }
      ],
      "source": [
        "#loading the Fasttext Embeddings downloaded eng .bin file from https://fasttext.cc/docs/en/crawl-vectors.html\n",
        "fasttext_model = FastText.load_fasttext_format('/Users/lemarx/Documents/01_projects/SentencesRelatedness24/data/embeddings/cc.en.300.bin')"
      ]
    },
    {
      "cell_type": "code",
      "execution_count": 7,
      "metadata": {},
      "outputs": [],
      "source": [
        "#function to apply the embeddings to one sentence\n",
        "def to_sent_emb(sentence):\n",
        "    sentence_emb = np.array([fasttext_model.wv[word] for word in sentence.split() if word in fasttext_model.wv]).mean(axis=0)\n",
        "    return sentence_emb"
      ]
    },
    {
      "cell_type": "code",
      "execution_count": 8,
      "metadata": {},
      "outputs": [],
      "source": [
        "#adding the application of the embeddings to the cosine_similarity computation function\n",
        "def cosine_similarity(vector_a, vector_b):\n",
        "    vector_a = to_sent_emb(vector_a)\n",
        "    vector_b = to_sent_emb(vector_b)\n",
        "    dot_product = np.dot(vector_a, vector_b)\n",
        "    norm_a = np.linalg.norm(vector_a)\n",
        "    norm_b = np.linalg.norm(vector_b)\n",
        "\n",
        "    similarity = dot_product / (norm_a * norm_b)\n",
        "    return similarity"
      ]
    },
    {
      "cell_type": "code",
      "execution_count": 9,
      "metadata": {},
      "outputs": [],
      "source": [
        "#jointly applying the embeddings and cosine similarity to the whole dataset\n",
        "df_str_rel['cos_sim'] = df_str_rel.apply(lambda row: cosine_similarity(row['Split_Text'][0],row['Split_Text'][1]), axis= 1)"
      ]
    },
    {
      "cell_type": "code",
      "execution_count": 11,
      "metadata": {
        "id": "SAMvGhTAIyXc"
      },
      "outputs": [],
      "source": [
        "#evaluating the performance of the FastText Embeddings on the whole dataset\n",
        "true_scores = df_str_rel['Score'].values\n",
        "pred_scores = df_str_rel['cos_sim'].values\n",
        "print(\"Spearman Correlation:\", round(spearmanr(true_scores,pred_scores)[0],2))"
      ]
    }
  ],
  "metadata": {
    "colab": {
      "include_colab_link": true,
      "provenance": []
    },
    "kernelspec": {
      "display_name": "Python 3",
      "language": "python",
      "name": "python3"
    },
    "language_info": {
      "codemirror_mode": {
        "name": "ipython",
        "version": 3
      },
      "file_extension": ".py",
      "mimetype": "text/x-python",
      "name": "python",
      "nbconvert_exporter": "python",
      "pygments_lexer": "ipython3",
      "version": "3.10.13"
    }
  },
  "nbformat": 4,
  "nbformat_minor": 0
}
