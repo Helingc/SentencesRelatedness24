{
  "cells": [
    {
      "cell_type": "code",
      "execution_count": 1,
      "metadata": {
        "id": "FC8qpRzvtGMt"
      },
      "outputs": [],
      "source": [
        "# !pip install lightning\n",
        "# !pip install protobuf\n",
        "# !pip install transformers\n",
        "# !pip install sentencepiece"
      ]
    },
    {
      "cell_type": "code",
      "execution_count": 2,
      "metadata": {
        "id": "LqoCB19Is5oz"
      },
      "outputs": [
        {
          "name": "stderr",
          "output_type": "stream",
          "text": [
            "/Users/lemarx/anaconda3/envs/str23/lib/python3.10/site-packages/tqdm/auto.py:21: TqdmWarning: IProgress not found. Please update jupyter and ipywidgets. See https://ipywidgets.readthedocs.io/en/stable/user_install.html\n",
            "  from .autonotebook import tqdm as notebook_tqdm\n"
          ]
        }
      ],
      "source": [
        "import torch\n",
        "import torch.nn.functional as F\n",
        "from torch.utils.data import DataLoader, random_split\n",
        "import pytorch_lightning as pl\n",
        "from transformers import DebertaTokenizer, DebertaForSequenceClassification,AutoTokenizer\n",
        "\n",
        "import pandas as pd\n",
        "from scipy.stats import spearmanr, pearsonr\n",
        "from sklearn.model_selection import train_test_split\n",
        "import os\n",
        "from pytorch_lightning.callbacks.early_stopping import EarlyStopping"
      ]
    },
    {
      "cell_type": "code",
      "execution_count": 3,
      "metadata": {
        "id": "GJ8vw9dVs5o3"
      },
      "outputs": [],
      "source": [
        "class SentenceSimilarityModel(pl.LightningModule):\n",
        "    def __init__(self, learning_rate=2e-5):\n",
        "        super(SentenceSimilarityModel, self).__init__()\n",
        "        self.deberta = DebertaForSequenceClassification.from_pretrained('microsoft/deberta-v3-small',ignore_mismatched_sizes=True,num_labels=1)\n",
        "\n",
        "        self.custom_layer = torch.nn.Linear(in_features=self.deberta.config.hidden_size, out_features=1)\n",
        "        #Freeze parameters of the DeBERTa model\n",
        "        for param in self.deberta.parameters():\n",
        "            param.requires_grad = False\n",
        "        self.learning_rate = learning_rate\n",
        "\n",
        "    def forward(self, input_ids,attention_mask):\n",
        "        outputs = self.deberta(input_ids, attention_mask=attention_mask)\n",
        "\n",
        "        hidden_state = outputs.hidden_states[-1]\n",
        "\n",
        "        logits = self.custom_layer(hidden_state[:, 0, :])\n",
        "        return torch.sigmoid(logits)\n",
        "\n",
        "    def training_step(self, batch, batch_idx):\n",
        "        input_ids, attention_mask, score = batch\n",
        "        logits = self(input_ids,attention_mask)\n",
        "\n",
        "        # Assuming a binary classification task\n",
        "        loss = F.mse_loss(logits, score.float())\n",
        "        spearman = spearmanr(logits.detach().cpu().numpy(),score.detach().cpu().numpy()).statistic\n",
        "\n",
        "        self.log(\"train_loss\", loss, on_step=True, on_epoch=True, prog_bar=True)\n",
        "        self.log(\"spearman\", spearman, on_step=True, on_epoch=True, prog_bar=True)\n",
        "\n",
        "        return loss\n",
        "\n",
        "    def validation_step(self, batch, batch_idx):\n",
        "        input_ids, attention_mask, score = batch\n",
        "        logits = self(input_ids, attention_mask)\n",
        "\n",
        "        # Assuming a binary classification task\n",
        "        loss = F.mse_loss(logits, score.float())\n",
        "\n",
        "        spearman = spearmanr(logits.detach().cpu().numpy(),score.detach().cpu().numpy()).statistic\n",
        "\n",
        "        self.log(\"val_loss\", loss,on_epoch = True, prog_bar = True)\n",
        "        self.log(\"spearman\",spearman,on_epoch = True, prog_bar = True)\n",
        "\n",
        "\n",
        "    def configure_optimizers(self):\n",
        "        return torch.optim.AdamW(self.custom_layer.parameters(), lr=self.learning_rate)\n"
      ]
    },
    {
      "cell_type": "code",
      "execution_count": 4,
      "metadata": {
        "id": "vct254NCs5o3"
      },
      "outputs": [],
      "source": [
        "class str_dataset(torch.utils.data.Dataset):\n",
        "    def __init__(self, dataframe):\n",
        "        self.dataframe = dataframe\n",
        "        self.tokenizer = AutoTokenizer.from_pretrained('microsoft/deberta-v3-small')\n",
        "\n",
        "    def __len__(self):\n",
        "        return len(self.dataframe)\n",
        "\n",
        "    def __getitem__(self, idx):\n",
        "        # Extract the features and target from the DataFrame\n",
        "        # Adjust this based on your DataFrame structure\n",
        "        features = self.dataframe['input'].loc[idx]\n",
        "        token = self.tokenizer(features, return_tensors='pt', truncation='longest_first', padding='max_length',max_length=265)\n",
        "\n",
        "        input_ids = token['input_ids'].squeeze()\n",
        "        attention_mask = token['attention_mask'].squeeze()\n",
        "\n",
        "        score = self.dataframe['Score'].loc[idx]\n",
        "\n",
        "        score = torch.tensor(score, dtype=torch.float32).unsqueeze(dim=0)  # Adjust the dtype as needed\n",
        "\n",
        "        return input_ids, attention_mask, score"
      ]
    },
    {
      "cell_type": "code",
      "execution_count": 5,
      "metadata": {
        "id": "pdct2MN2s5o4"
      },
      "outputs": [],
      "source": [
        "class STR_DataModule(pl.LightningDataModule):\n",
        "    def __init__(self, train_dataset, val_dataset, batch_size=32):\n",
        "        super().__init__()\n",
        "        self.train_dataset = train_dataset\n",
        "        self.val_dataset = val_dataset\n",
        "        self.batch_size = batch_size\n",
        "\n",
        "    def train_dataloader(self):\n",
        "        return DataLoader(self.train_dataset, batch_size=self.batch_size,num_workers = 2,persistent_workers=True, shuffle=True)\n",
        "\n",
        "    def val_dataloader(self):\n",
        "        return DataLoader(self.val_dataset, batch_size=self.batch_size,num_workers = 2,persistent_workers=True)\n"
      ]
    },
    {
      "cell_type": "code",
      "execution_count": 6,
      "metadata": {
        "colab": {
          "base_uri": "https://localhost:8080/",
          "height": 204
        },
        "id": "xav4NH4As5o4",
        "outputId": "36aff1fb-7679-43ff-d441-3850740ec77a"
      },
      "outputs": [
        {
          "data": {
            "text/html": [
              "<div>\n",
              "<style scoped>\n",
              "    .dataframe tbody tr th:only-of-type {\n",
              "        vertical-align: middle;\n",
              "    }\n",
              "\n",
              "    .dataframe tbody tr th {\n",
              "        vertical-align: top;\n",
              "    }\n",
              "\n",
              "    .dataframe thead th {\n",
              "        text-align: right;\n",
              "    }\n",
              "</style>\n",
              "<table border=\"1\" class=\"dataframe\">\n",
              "  <thead>\n",
              "    <tr style=\"text-align: right;\">\n",
              "      <th></th>\n",
              "      <th>PairID</th>\n",
              "      <th>Text</th>\n",
              "      <th>Score</th>\n",
              "    </tr>\n",
              "  </thead>\n",
              "  <tbody>\n",
              "    <tr>\n",
              "      <th>0</th>\n",
              "      <td>ENG-train-0000</td>\n",
              "      <td>It that happens, just pull the plug.\\nif that ...</td>\n",
              "      <td>1.0</td>\n",
              "    </tr>\n",
              "    <tr>\n",
              "      <th>1</th>\n",
              "      <td>ENG-train-0001</td>\n",
              "      <td>A black dog running through water.\\nA black do...</td>\n",
              "      <td>1.0</td>\n",
              "    </tr>\n",
              "    <tr>\n",
              "      <th>2</th>\n",
              "      <td>ENG-train-0002</td>\n",
              "      <td>I've been searchingthe entire abbey for you.\\n...</td>\n",
              "      <td>1.0</td>\n",
              "    </tr>\n",
              "    <tr>\n",
              "      <th>3</th>\n",
              "      <td>ENG-train-0003</td>\n",
              "      <td>If he is good looking and has a good personali...</td>\n",
              "      <td>1.0</td>\n",
              "    </tr>\n",
              "    <tr>\n",
              "      <th>4</th>\n",
              "      <td>ENG-train-0004</td>\n",
              "      <td>She does not hate you, she is just annoyed wit...</td>\n",
              "      <td>1.0</td>\n",
              "    </tr>\n",
              "  </tbody>\n",
              "</table>\n",
              "</div>"
            ],
            "text/plain": [
              "           PairID                                               Text  Score\n",
              "0  ENG-train-0000  It that happens, just pull the plug.\\nif that ...    1.0\n",
              "1  ENG-train-0001  A black dog running through water.\\nA black do...    1.0\n",
              "2  ENG-train-0002  I've been searchingthe entire abbey for you.\\n...    1.0\n",
              "3  ENG-train-0003  If he is good looking and has a good personali...    1.0\n",
              "4  ENG-train-0004  She does not hate you, she is just annoyed wit...    1.0"
            ]
          },
          "execution_count": 6,
          "metadata": {},
          "output_type": "execute_result"
        }
      ],
      "source": [
        "train_data = pd.read_csv('/Users/lemarx/Documents/01_projects/SentencesRelatedness24/data/raw/eng_train.csv')\n",
        "train_data.head()"
      ]
    },
    {
      "cell_type": "code",
      "execution_count": 7,
      "metadata": {
        "colab": {
          "base_uri": "https://localhost:8080/",
          "height": 35
        },
        "id": "o2Zuo86ss5o6",
        "outputId": "87c10987-527d-47b0-ccf6-8533bd4e18f8"
      },
      "outputs": [
        {
          "data": {
            "text/plain": [
              "'It that happens, just pull the plug.[SEP]if that ever happens, just pull the plug.'"
            ]
          },
          "execution_count": 7,
          "metadata": {},
          "output_type": "execute_result"
        }
      ],
      "source": [
        "sep = '[SEP]'\n",
        "test = train_data['Text'].loc[0].replace('\\n',sep)\n",
        "test"
      ]
    },
    {
      "cell_type": "code",
      "execution_count": 8,
      "metadata": {
        "colab": {
          "base_uri": "https://localhost:8080/",
          "height": 204
        },
        "id": "ocOBu1wBs5o6",
        "outputId": "df3d3532-3d01-4009-e571-41261532d2e5"
      },
      "outputs": [
        {
          "data": {
            "text/html": [
              "<div>\n",
              "<style scoped>\n",
              "    .dataframe tbody tr th:only-of-type {\n",
              "        vertical-align: middle;\n",
              "    }\n",
              "\n",
              "    .dataframe tbody tr th {\n",
              "        vertical-align: top;\n",
              "    }\n",
              "\n",
              "    .dataframe thead th {\n",
              "        text-align: right;\n",
              "    }\n",
              "</style>\n",
              "<table border=\"1\" class=\"dataframe\">\n",
              "  <thead>\n",
              "    <tr style=\"text-align: right;\">\n",
              "      <th></th>\n",
              "      <th>PairID</th>\n",
              "      <th>Text</th>\n",
              "      <th>Score</th>\n",
              "      <th>input</th>\n",
              "    </tr>\n",
              "  </thead>\n",
              "  <tbody>\n",
              "    <tr>\n",
              "      <th>0</th>\n",
              "      <td>ENG-train-0000</td>\n",
              "      <td>It that happens, just pull the plug.\\nif that ...</td>\n",
              "      <td>1.0</td>\n",
              "      <td>It that happens, just pull the plug.[SEP]if th...</td>\n",
              "    </tr>\n",
              "    <tr>\n",
              "      <th>1</th>\n",
              "      <td>ENG-train-0001</td>\n",
              "      <td>A black dog running through water.\\nA black do...</td>\n",
              "      <td>1.0</td>\n",
              "      <td>A black dog running through water.[SEP]A black...</td>\n",
              "    </tr>\n",
              "    <tr>\n",
              "      <th>2</th>\n",
              "      <td>ENG-train-0002</td>\n",
              "      <td>I've been searchingthe entire abbey for you.\\n...</td>\n",
              "      <td>1.0</td>\n",
              "      <td>I've been searchingthe entire abbey for you.[S...</td>\n",
              "    </tr>\n",
              "    <tr>\n",
              "      <th>3</th>\n",
              "      <td>ENG-train-0003</td>\n",
              "      <td>If he is good looking and has a good personali...</td>\n",
              "      <td>1.0</td>\n",
              "      <td>If he is good looking and has a good personali...</td>\n",
              "    </tr>\n",
              "    <tr>\n",
              "      <th>4</th>\n",
              "      <td>ENG-train-0004</td>\n",
              "      <td>She does not hate you, she is just annoyed wit...</td>\n",
              "      <td>1.0</td>\n",
              "      <td>She does not hate you, she is just annoyed wit...</td>\n",
              "    </tr>\n",
              "  </tbody>\n",
              "</table>\n",
              "</div>"
            ],
            "text/plain": [
              "           PairID                                               Text  Score  \\\n",
              "0  ENG-train-0000  It that happens, just pull the plug.\\nif that ...    1.0   \n",
              "1  ENG-train-0001  A black dog running through water.\\nA black do...    1.0   \n",
              "2  ENG-train-0002  I've been searchingthe entire abbey for you.\\n...    1.0   \n",
              "3  ENG-train-0003  If he is good looking and has a good personali...    1.0   \n",
              "4  ENG-train-0004  She does not hate you, she is just annoyed wit...    1.0   \n",
              "\n",
              "                                               input  \n",
              "0  It that happens, just pull the plug.[SEP]if th...  \n",
              "1  A black dog running through water.[SEP]A black...  \n",
              "2  I've been searchingthe entire abbey for you.[S...  \n",
              "3  If he is good looking and has a good personali...  \n",
              "4  She does not hate you, she is just annoyed wit...  "
            ]
          },
          "execution_count": 8,
          "metadata": {},
          "output_type": "execute_result"
        }
      ],
      "source": [
        "train_data['input'] = train_data.apply(lambda row : row['Text'].replace('\\n',sep),axis = 1)\n",
        "train_data.head()"
      ]
    },
    {
      "cell_type": "code",
      "execution_count": 9,
      "metadata": {
        "colab": {
          "base_uri": "https://localhost:8080/"
        },
        "id": "ifQL92i5s5o7",
        "outputId": "9f85511e-82c5-4082-88c7-7ae4c3136fea"
      },
      "outputs": [
        {
          "name": "stderr",
          "output_type": "stream",
          "text": [
            "/Users/lemarx/anaconda3/envs/str23/lib/python3.10/site-packages/transformers/convert_slow_tokenizer.py:473: UserWarning: The sentencepiece tokenizer that you are converting to a fast tokenizer uses the byte fallback option which is not implemented in the fast tokenizers. In practice this means that the fast version of the tokenizer can produce unknown tokens whereas the sentencepiece version would have converted these unknown tokens into a sequence of byte tokens matching the original piece of text.\n",
            "  warnings.warn(\n"
          ]
        }
      ],
      "source": [
        "#train test split\n",
        "\n",
        "train_df, val_df = train_test_split(train_data, test_size=0.2, random_state=42)\n",
        "\n",
        "train_dataset = str_dataset(train_df.reset_index(drop=True))\n",
        "val_dataset = str_dataset(val_df.reset_index(drop=True))\n",
        "\n",
        "str_datamodule = STR_DataModule(train_dataset=train_dataset, val_dataset= val_dataset, batch_size = 16)"
      ]
    },
    {
      "cell_type": "code",
      "execution_count": 10,
      "metadata": {
        "id": "j2Z_omtLsiX2"
      },
      "outputs": [],
      "source": [
        "# print(train_dataset.__getitem__(0)[0].shape)\n",
        "# print(train_dataset.__getitem__(1)[0].shape)"
      ]
    },
    {
      "cell_type": "code",
      "execution_count": 11,
      "metadata": {
        "id": "8kIF8p2j8yJg"
      },
      "outputs": [],
      "source": [
        "# test_input,test_att,_ = train_dataset.__getitem__(0)\n",
        "# test_input\n",
        "# with torch.no_grad():\n",
        "#   model.eval()\n",
        "#   output = model.deberta(test_input.unsqueeze(dim=0),test_att.unsqueeze(dim=0))\n",
        "\n",
        "# print(output.hidden_states[-1][:, 0, :])"
      ]
    },
    {
      "cell_type": "code",
      "execution_count": 12,
      "metadata": {
        "colab": {
          "base_uri": "https://localhost:8080/"
        },
        "id": "oFzf--jSs5o8",
        "outputId": "4b92c75f-55f4-4928-d03e-83d40c79b2aa"
      },
      "outputs": [
        {
          "name": "stderr",
          "output_type": "stream",
          "text": [
            "You are using a model of type deberta-v2 to instantiate a model of type deberta. This is not supported for all configurations of models and can yield errors.\n",
            "Some weights of DebertaForSequenceClassification were not initialized from the model checkpoint at microsoft/deberta-v3-small and are newly initialized: ['deberta.encoder.layer.5.attention.self.v_bias', 'deberta.encoder.layer.1.attention.self.q_bias', 'deberta.encoder.layer.1.attention.self.in_proj.weight', 'deberta.encoder.layer.4.attention.self.in_proj.weight', 'deberta.encoder.layer.5.attention.self.pos_q_proj.bias', 'deberta.encoder.layer.4.attention.self.v_bias', 'pooler.dense.weight', 'deberta.encoder.layer.0.attention.self.q_bias', 'deberta.encoder.layer.0.attention.self.v_bias', 'deberta.encoder.layer.1.attention.self.pos_q_proj.weight', 'deberta.encoder.layer.4.attention.self.q_bias', 'deberta.encoder.layer.0.attention.self.pos_q_proj.weight', 'deberta.encoder.layer.1.attention.self.pos_proj.weight', 'deberta.encoder.layer.5.attention.self.q_bias', 'deberta.encoder.layer.3.attention.self.v_bias', 'deberta.encoder.layer.2.attention.self.pos_q_proj.weight', 'deberta.encoder.layer.3.attention.self.pos_proj.weight', 'deberta.encoder.layer.2.attention.self.pos_q_proj.bias', 'classifier.bias', 'deberta.encoder.layer.3.attention.self.in_proj.weight', 'deberta.encoder.layer.4.attention.self.pos_q_proj.weight', 'deberta.encoder.layer.3.attention.self.q_bias', 'deberta.encoder.layer.0.attention.self.in_proj.weight', 'deberta.encoder.layer.3.attention.self.pos_q_proj.weight', 'deberta.encoder.layer.0.attention.self.pos_q_proj.bias', 'deberta.encoder.layer.1.attention.self.pos_q_proj.bias', 'deberta.encoder.layer.5.attention.self.in_proj.weight', 'deberta.encoder.layer.5.attention.self.pos_proj.weight', 'deberta.encoder.layer.2.attention.self.v_bias', 'deberta.encoder.layer.2.attention.self.in_proj.weight', 'deberta.encoder.layer.2.attention.self.pos_proj.weight', 'deberta.encoder.layer.5.attention.self.pos_q_proj.weight', 'classifier.weight', 'deberta.encoder.layer.4.attention.self.pos_proj.weight', 'pooler.dense.bias', 'deberta.encoder.layer.0.attention.self.pos_proj.weight', 'deberta.encoder.layer.3.attention.self.pos_q_proj.bias', 'deberta.encoder.layer.2.attention.self.q_bias', 'deberta.encoder.layer.1.attention.self.v_bias', 'deberta.encoder.layer.4.attention.self.pos_q_proj.bias']\n",
            "You should probably TRAIN this model on a down-stream task to be able to use it for predictions and inference.\n",
            "Some weights of DebertaForSequenceClassification were not initialized from the model checkpoint at microsoft/deberta-v3-small and are newly initialized because the shapes did not match:\n",
            "- deberta.encoder.rel_embeddings.weight: found shape torch.Size([512, 768]) in the checkpoint and torch.Size([1024, 768]) in the model instantiated\n",
            "You should probably TRAIN this model on a down-stream task to be able to use it for predictions and inference.\n",
            "GPU available: True (mps), used: True\n",
            "TPU available: False, using: 0 TPU cores\n",
            "IPU available: False, using: 0 IPUs\n",
            "HPU available: False, using: 0 HPUs\n",
            "/Users/lemarx/anaconda3/envs/str23/lib/python3.10/site-packages/pytorch_lightning/trainer/connectors/logger_connector/logger_connector.py:67: Starting from v1.9.0, `tensorboardX` has been removed as a dependency of the `pytorch_lightning` package, due to potential conflicts with other packages in the ML ecosystem. For this reason, `logger=True` will use `CSVLogger` as the default logger, unless the `tensorboard` or `tensorboardX` packages are found. Please `pip install lightning[extra]` or one of them to enable TensorBoard support by default\n",
            "\n",
            "  | Name         | Type                             | Params\n",
            "------------------------------------------------------------------\n",
            "0 | deberta      | DebertaForSequenceClassification | 149 M \n",
            "1 | custom_layer | Linear                           | 769   \n",
            "------------------------------------------------------------------\n",
            "769       Trainable params\n",
            "149 M     Non-trainable params\n",
            "149 M     Total params\n",
            "597.464   Total estimated model params size (MB)\n"
          ]
        },
        {
          "name": "stdout",
          "output_type": "stream",
          "text": [
            "Sanity Checking: |          | 0/? [00:00<?, ?it/s]"
          ]
        },
        {
          "name": "stderr",
          "output_type": "stream",
          "text": [
            "Traceback (most recent call last):\n",
            "  File \"<string>\", line 1, in <module>\n",
            "  File \"/Users/lemarx/anaconda3/envs/str23/lib/python3.10/multiprocessing/spawn.py\", line 116, in spawn_main\n",
            "    exitcode = _main(fd, parent_sentinel)\n",
            "  File \"/Users/lemarx/anaconda3/envs/str23/lib/python3.10/multiprocessing/spawn.py\", line 126, in _main\n",
            "    self = reduction.pickle.load(from_parent)\n",
            "AttributeError: Can't get attribute 'str_dataset' on <module '__main__' (built-in)>\n",
            "/Users/lemarx/anaconda3/envs/str23/lib/python3.10/site-packages/pytorch_lightning/trainer/call.py:54: Detected KeyboardInterrupt, attempting graceful shutdown...\n"
          ]
        }
      ],
      "source": [
        "model = SentenceSimilarityModel()\n",
        "\n",
        "trainer = pl.Trainer(max_epochs=25,callbacks=[EarlyStopping(monitor=\"val_loss\", patience=3, mode=\"min\")],accelerator='gpu')\n",
        "\n",
        "# tuner = pl.tuner.Tuner(trainer)\n",
        "# lr_finder = tuner.lr_find(model, datamodule = str_datamodule)\n",
        "\n",
        "# # Pick point based on plot, or get suggestion\n",
        "# new_lr = lr_finder.suggestion()\n",
        "\n",
        "# # # update hparams of the model\n",
        "# model.lr = new_lr\n",
        "\n",
        "trainer.fit(model, datamodule=str_datamodule)"
      ]
    }
  ],
  "metadata": {
    "colab": {
      "provenance": []
    },
    "kernelspec": {
      "display_name": "Python 3",
      "name": "python3"
    },
    "language_info": {
      "codemirror_mode": {
        "name": "ipython",
        "version": 3
      },
      "file_extension": ".py",
      "mimetype": "text/x-python",
      "name": "python",
      "nbconvert_exporter": "python",
      "pygments_lexer": "ipython3",
      "version": "3.10.13"
    }
  },
  "nbformat": 4,
  "nbformat_minor": 0
}
