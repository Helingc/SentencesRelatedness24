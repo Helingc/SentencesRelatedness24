{
 "cells": [
  {
   "cell_type": "code",
   "execution_count": 193,
   "metadata": {},
   "outputs": [],
   "source": [
    "import re\n",
    "import random\n",
    "import string"
   ]
  },
  {
   "cell_type": "code",
   "execution_count": 194,
   "metadata": {},
   "outputs": [
    {
     "data": {
      "text/plain": [
       "'It that happens, just pull the plug.\\nif that ever happens, just pull the plug.'"
      ]
     },
     "execution_count": 194,
     "metadata": {},
     "output_type": "execute_result"
    }
   ],
   "source": [
    "import pandas as pd\n",
    "train_data = pd.read_csv('/Users/lemarx/Documents/01_projects/SentencesRelatedness24/data/raw/eng_train.csv')\n",
    "tada = train_data['Text'].loc[0]\n",
    "tada"
   ]
  },
  {
   "cell_type": "code",
   "execution_count": 195,
   "metadata": {},
   "outputs": [],
   "source": [
    "def get_random_word(seq : str,sep :str = '[SEP]', min_len : int = 3,seed : int = 42) -> str:\n",
    "    #random.seed(seed)\n",
    "    seq = seq.replace(sep,'')\n",
    "    seq = re.sub(r\"[^a-zA-Z0-9]+\", ' ', seq)\n",
    "    seq = list(set(seq.split()))\n",
    "    candidates = [word for word in seq if len(word) >= min_len]\n",
    "\n",
    "    if(candidates == []):\n",
    "        return None\n",
    "\n",
    "    return random.choice(candidates)\n"
   ]
  },
  {
   "cell_type": "code",
   "execution_count": 196,
   "metadata": {},
   "outputs": [],
   "source": [
    "#changes one random letter of the word\n",
    "#dont interchange first or last letter\n",
    "def replace_letter(word : str, seed : int = 42)-> str:\n",
    "    #random.seed(42)\n",
    "    if len(word) <=2:\n",
    "        return word\n",
    "    idx = random.randint(1,len(word)-2)\n",
    "    mod_word = word[:idx] + random.choice(string.ascii_lowercase) + word[idx + 1:] \n",
    "    return mod_word\n"
   ]
  },
  {
   "cell_type": "code",
   "execution_count": 274,
   "metadata": {},
   "outputs": [],
   "source": [
    "def apply_change_letter(seq : str, p : int = 0.3, sep :str = '[SEP]'):\n",
    "    seq = seq.split(sep)\n",
    "    word = get_random_word(seq[0],sep)\n",
    "    if word == None or random.random() < p:\n",
    "        return seq[0] + sep + seq[1]\n",
    "    return seq[0].replace(word,replace_letter(word)) + sep + seq[1]"
   ]
  },
  {
   "cell_type": "code",
   "execution_count": 283,
   "metadata": {},
   "outputs": [
    {
     "name": "stdout",
     "output_type": "stream",
     "text": [
      "It thnt happens, just pull the plug.\n",
      "if that ever happens, just pull the plug.\n"
     ]
    }
   ],
   "source": [
    "print(apply_change_letter(tada,sep = '\\n'))"
   ]
  }
 ],
 "metadata": {
  "kernelspec": {
   "display_name": "str23",
   "language": "python",
   "name": "python3"
  },
  "language_info": {
   "codemirror_mode": {
    "name": "ipython",
    "version": 3
   },
   "file_extension": ".py",
   "mimetype": "text/x-python",
   "name": "python",
   "nbconvert_exporter": "python",
   "pygments_lexer": "ipython3",
   "version": "3.10.13"
  }
 },
 "nbformat": 4,
 "nbformat_minor": 2
}
